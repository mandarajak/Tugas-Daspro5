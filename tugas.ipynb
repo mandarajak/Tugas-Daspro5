{
 "cells": [
  {
   "cell_type": "code",
   "execution_count": 1,
   "metadata": {},
   "outputs": [
    {
     "name": "stdout",
     "output_type": "stream",
     "text": [
      "Suhu ruangan adalah 18.0 derajat Celsius, yang termasuk kategori: Sedang.\n"
     ]
    }
   ],
   "source": [
    "def kategori_suhu(suhu):\n",
    "    if suhu < 10:\n",
    "        return \"Dingin\"\n",
    "    elif suhu < 26:\n",
    "        return \"Sedang\"\n",
    "    elif suhu < 36:\n",
    "        return \"Hangat\"\n",
    "    return \"Panas\"\n",
    "\n",
    "try:\n",
    "    suhu = float(input(\"Masukkan suhu ruangan dalam derajat Celsius: \"))\n",
    "    kategori = kategori_suhu(suhu)\n",
    "    print(f\"Suhu ruangan adalah {suhu} derajat Celsius, yang termasuk kategori: {kategori}.\")\n",
    "except ValueError:\n",
    "    print(\"Input tidak valid. Harap masukkan angka.\")\n"
   ]
  },
  {
   "cell_type": "code",
   "execution_count": 2,
   "metadata": {},
   "outputs": [
    {
     "name": "stdout",
     "output_type": "stream",
     "text": [
      "Nama Saya: Manda Rajak\n",
      "Saya sedang mengerjakan latihan soal: 12\n"
     ]
    }
   ],
   "source": [
    "def sorts():\n",
    "    name = input(\"Masukkan Nama: \")\n",
    "    chapter = input(\"Masukkan Latihan ke: \")\n",
    "    print(\"Nama Saya:\", name)\n",
    "    print(\"Saya sedang mengerjakan latihan soal:\", chapter)\n",
    "\n",
    "sorts()"
   ]
  },
  {
   "cell_type": "code",
   "execution_count": 3,
   "metadata": {},
   "outputs": [
    {
     "name": "stdout",
     "output_type": "stream",
     "text": [
      "nilai 6.26\n"
     ]
    }
   ],
   "source": [
    "def pembagian(x, y, z=1):\n",
    "    return round(x * y / z, 2)\n",
    "\n",
    "hasil_yang_diinginkan = 6.26\n",
    "x = 20\n",
    "y = 10\n",
    "z = x * y / hasil_yang_diinginkan\n",
    "\n",
    "print(\"nilai\", pembagian(x,y,z))\n"
   ]
  },
  {
   "cell_type": "code",
   "execution_count": 4,
   "metadata": {},
   "outputs": [
    {
     "name": "stdout",
     "output_type": "stream",
     "text": [
      "10\n",
      "20\n",
      "50\n",
      "70\n",
      "90\n",
      "30\n"
     ]
    }
   ],
   "source": [
    "def sorts(*x):\n",
    "    for num in x:\n",
    "        print(num)\n",
    "\n",
    "sorts(10, 20)\n",
    "sorts(50, 70)\n",
    "sorts(90,30)"
   ]
  }
 ],
 "metadata": {
  "kernelspec": {
   "display_name": "Python 3",
   "language": "python",
   "name": "python3"
  },
  "language_info": {
   "codemirror_mode": {
    "name": "ipython",
    "version": 3
   },
   "file_extension": ".py",
   "mimetype": "text/x-python",
   "name": "python",
   "nbconvert_exporter": "python",
   "pygments_lexer": "ipython3",
   "version": "3.12.3"
  }
 },
 "nbformat": 4,
 "nbformat_minor": 2
}
